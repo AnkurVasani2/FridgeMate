{
 "cells": [
  {
   "cell_type": "code",
   "execution_count": 2,
   "id": "02afd3de-ffad-4758-bc50-75ff16e46aea",
   "metadata": {},
   "outputs": [
    {
     "name": "stdout",
     "output_type": "stream",
     "text": [
      "['tomato', 'cabbage']\n",
      "{'\"Sr No \"': '\"85\"', '\"Recipe Name\"': '\"Veggie Fried Rice\"', '\"Ingredients\"': '\"Rice, Capsicum, Cabbage, Brinjal, Tomato, Onion, Garlic, Ginger, Soy Sauce, Vinegar, Chili Flakes, Salt, Oil\"', '\"Veg/Non_Veg\"': '\"Veg\"', '\"Procedure\"': '\"Cook rice, stir-fry with chopped vegetables, soy sauce, vinegar, and spices.\"', '\"No of people\"': '\"3\"', '\"Cook Time\"': '\"25 mins\"'}\n",
      "{'\"Sr No \"': '\"86\"', '\"Recipe Name\"': '\"Cabbage Pulao\"', '\"Ingredients\"': '\"Rice, Cabbage, Tomato, Onion, Garlic, Ginger, Green Chilies, Cumin Seeds, Bay Leaves, Cardamom, Cinnamon, Cloves, Turmeric, Coriander Leaves, Salt, Oil\"', '\"Veg/Non_Veg\"': '\"Veg\"', '\"Procedure\"': '\"Sauté onions, garlic, ginger, and spices. Add cabbage, tomatoes, rice, and cook until rice is done.\"', '\"No of people\"': '\"3\"', '\"Cook Time\"': '\"35 mins\"'}\n",
      "{'\"Sr No \"': '\"94\"', '\"Recipe Name\"': '\"Fish Tacos\"', '\"Ingredients\"': '\"Fish Fillets, Flour Tortillas, Cabbage, Tomato, Onion, Avocado, Lime Juice, Cilantro, Garlic, Cumin, Chili Powder, Salt, Oil\"', '\"Veg/Non_Veg\"': '\"Non_veg\"', '\"Procedure\"': '\"Grill fish fillets, assemble tacos with shredded cabbage, diced tomatoes, onions, avocado, lime juice, and cilantro.\"', '\"No of people\"': '\"3\"', '\"Cook Time\"': '\"30 mins\"'}\n"
     ]
    }
   ],
   "source": [
    "import csv\n",
    "\n",
    "def csv_to_dict(csv_file):\n",
    "    try:\n",
    "        with open(csv_file, 'r', encoding='utf-8-sig') as file:\n",
    "            reader = csv.DictReader(file)\n",
    "            data_dict = [row for row in reader]\n",
    "            return data_dict\n",
    "    except FileNotFoundError:\n",
    "        print(f\"Error: File not found at '{csv_file}'\")\n",
    "        return None\n",
    "    except Exception as e:\n",
    "        print(f\"An unexpected error occurred: {e}\")\n",
    "        return None\n",
    "\n",
    "def find_recipe_by_ingredients(ingredients, recipe_data):\n",
    "    matching_recipes = []\n",
    "\n",
    "    for row in recipe_data:\n",
    "        ingredients_list = [ing.strip().lower() for ing in row.get(\"Ingredients\", \"\").split(',')]\n",
    "        if all(ingredient.lower() in ingredients_list for ingredient in ingredients):\n",
    "            matching_recipes.append(row)\n",
    "\n",
    "    return matching_recipes\n",
    "\n",
    "\n",
    "def main():\n",
    "    csv_file_path = 'Recipe.csv'\n",
    "    recipe_data = csv_to_dict(csv_file_path)\n",
    "\n",
    "    if recipe_data is not None:\n",
    "        try:\n",
    "            user_input = input(\"Enter ingredients separated by commas: \")\n",
    "            user_ingredients = [ingredient.strip().lower() for ingredient in user_input.split(',')]\n",
    "            print(user_ingredients)\n",
    "            matching_recipes = find_recipe_by_ingredients(user_ingredients, recipe_data)\n",
    "\n",
    "            if matching_recipes:\n",
    "                count = 0  # Counter to limit the number of recipes displayed\n",
    "                for recipe in matching_recipes:\n",
    "                    formatted_recipe = {f'\"{key}\"': f'\"{value}\"' for key, value in recipe.items()}\n",
    "                    print(formatted_recipe)\n",
    "                    count += 1\n",
    "                    if count == 3:  # Display only 3 recipes\n",
    "                        break\n",
    "            else:\n",
    "                print(\"No matching recipes found for the given ingredients.\")\n",
    "        except Exception as e:\n",
    "            print(f\"An unexpected error occurred during processing: {e}\")\n",
    "\n",
    "if __name__ == \"__main__\":\n",
    "    main()"
   ]
  },
  {
   "cell_type": "code",
   "execution_count": null,
   "id": "5d68df20",
   "metadata": {},
   "outputs": [],
   "source": []
  }
 ],
 "metadata": {
  "kernelspec": {
   "display_name": "Python 3 (ipykernel)",
   "language": "python",
   "name": "python3"
  },
  "language_info": {
   "codemirror_mode": {
    "name": "ipython",
    "version": 3
   },
   "file_extension": ".py",
   "mimetype": "text/x-python",
   "name": "python",
   "nbconvert_exporter": "python",
   "pygments_lexer": "ipython3",
   "version": "3.11.5"
  }
 },
 "nbformat": 4,
 "nbformat_minor": 5
}
